{
 "cells": [
  {
   "cell_type": "markdown",
   "id": "f2832fc5-220e-4b82-8094-cff0fc7ece08",
   "metadata": {},
   "source": [
    "# Defining Causation of Churn with CausalML"
   ]
  },
  {
   "cell_type": "markdown",
   "id": "55ed6f8c-68c7-4bdd-b8ec-9c6a32fd202f",
   "metadata": {},
   "source": [
    "# Business problem\n",
    "Before we jump into the data we can start defining the problem. Let our project manager give us a problem, users are suddenly churning at a specific point which is Level 28. After realizing this problem the manager asked us this generic question \"Why do users churn at Level 28?\". Then you looked at the level data and the difficulty looked as suspicious data but the level was not the only hardest one in the 25 - 35 levels area. Considering this you started a CausalML to prove your idea is right or not."
   ]
  },
  {
   "cell_type": "markdown",
   "id": "50286a03-aa85-4c0f-bbfd-bc0a939a4af6",
   "metadata": {},
   "source": [
    "# Data Generation\n",
    "Assume our dataset includes the following features for each user:\n",
    "\n",
    "- user_id: Unique identifier for the user.\n",
    "- level: The highest level reached by the user.\n",
    "- attempts_to_pass: Number of attempts the user made to pass Level 28.\n",
    "- engagement_score: A composite score representing the user's engagement with the game up to Level 28.\n",
    "- passed_level_28: Binary indicator (1 if the user passed Level 28, 0 otherwise).\n",
    "- churned_at_28: Binary indicator (1 if the user churned at Level 28, 0 otherwise).\n",
    "- rewarded_shows_watched: Number of rewarded ad shows watched by the user up to Level 28.\n",
    "- is_payer: Binary indicator (1 if the user has made any in-game purchases, 0 otherwise).\n",
    "- boosters_used: Number of boosters used by the user up to Level 28.\n",
    "- level_play_time: Total playtime in minutes the user spent on Level 28.\n",
    "- is_crown_enabled: Binary indicator (1 if the crown feature is enabled for the user, 0 otherwise).\n",
    "\n",
    "- is_battle_pass_active: Binary indicator (1 if the user has an active battle pass, 0 otherwise)."
   ]
  },
  {
   "cell_type": "code",
   "execution_count": 1,
   "id": "a2c94969-70ee-4869-a581-0b032113a3f6",
   "metadata": {},
   "outputs": [],
   "source": [
    "import pandas as pd\n",
    "from causalml.inference.meta import XGBTRegressor\n",
    "from sklearn.model_selection import train_test_split"
   ]
  },
  {
   "cell_type": "code",
   "execution_count": 2,
   "id": "f1f3d753-0ac5-4b51-a2a0-f5ae0072596d",
   "metadata": {},
   "outputs": [],
   "source": [
    "# Assuming the dataset is updated with the new features\n",
    "data = {\n",
    "    'user_id': range(1, 101),\n",
    "    'attempts_to_pass': [1, 2, 3, 4, 5] * 20,\n",
    "    'engagement_score': [i % 10 + 1 for i in range(100)],\n",
    "    'passed_level_28': [1 if i % 2 == 0 else 0 for i in range(100)],\n",
    "    'churned_at_28': [1 if i % 5 == 0 else 0 for i in range(100)],\n",
    "    'rewarded_shows_watched': [i % 3 for i in range(100)],\n",
    "    'is_payer': [1 if i % 4 == 0 else 0 for i in range(100)],\n",
    "    'boosters_used': [i % 5 for i in range(100)],\n",
    "    'level_play_time': [20 + i % 10 for i in range(100)],\n",
    "    'is_crown_enabled': [1 if i % 6 == 0 else 0 for i in range(100)],\n",
    "    'is_battle_pass_active': [1 if i % 7 == 0 else 0 for i in range(100)],\n",
    "}\n",
    "df = pd.DataFrame(data)"
   ]
  },
  {
   "cell_type": "code",
   "execution_count": 3,
   "id": "d0731d98-d1fd-4d15-a93a-fa511f521603",
   "metadata": {},
   "outputs": [],
   "source": [
    "# Define the treatment and the outcome\n",
    "treatment = 'passed_level_28'\n",
    "outcome = 'churned_at_28'\n",
    "\n",
    "# Define covariates including the new metrics\n",
    "covariates = ['attempts_to_pass', 'engagement_score', 'rewarded_shows_watched', 'is_payer', \n",
    "              'boosters_used', 'level_play_time', 'is_crown_enabled', 'is_battle_pass_active']\n"
   ]
  },
  {
   "cell_type": "code",
   "execution_count": 4,
   "id": "819d7ea8-5e6d-4c7a-9444-139b02d5250e",
   "metadata": {},
   "outputs": [],
   "source": [
    "# Split data into features (X) and outcome (y) first\n",
    "X = df[covariates]\n",
    "y = df[outcome]\n",
    "treatment_data = df[treatment]\n",
    "\n",
    "# Then split into training and testing sets\n",
    "X_train, X_test, y_train, y_test, treatment_train, treatment_test = train_test_split(X, y, treatment_data, test_size=0.2, random_state=42)\n",
    "\n",
    "# Initialize and fit the model with the correctly aligned subsets\n",
    "model = XGBTRegressor()\n",
    "model.fit(X=X_train, treatment=treatment_train, y=y_train)\n"
   ]
  },
  {
   "cell_type": "code",
   "execution_count": 5,
   "id": "fd7f59b6-c3a2-4a41-92f6-5b19c509c7d7",
   "metadata": {},
   "outputs": [
    {
     "name": "stdout",
     "output_type": "stream",
     "text": [
      "Average Treatment Effect of passing Level 28 on churn: [0.00038255]\n"
     ]
    }
   ],
   "source": [
    "# Estimate the causal effect with the correctly aligned subsets\n",
    "causal_effects = model.estimate_ate(X=X_test, treatment=treatment_test, y=y_test)\n",
    "ate = causal_effects[0]\n",
    "\n",
    "print(f\"Average Treatment Effect of passing Level 28 on churn: {ate}\")"
   ]
  },
  {
   "cell_type": "markdown",
   "id": "1233efea-de0e-4140-92ce-120fd0459f48",
   "metadata": {},
   "source": [
    "# Result\n",
    "The mean value represents the estimated average causal effect of increasing the number of attempts to pass Level 28 by one unit on the probability of churning. In this case, the estimated effect size is approximately 0.0004. This suggests that an additional attempt to pass Level 28 is associated with a 0.04% increase in the probability of churning, on average, across all users in the dataset."
   ]
  },
  {
   "cell_type": "markdown",
   "id": "f81a4f21-6c91-4099-b798-9225bc212e95",
   "metadata": {},
   "source": [
    "# Interpretation\n",
    "The estimated causal effect is relatively small, indicating that the number of attempts to pass Level 28, by itself, has a slight increase in the likelihood of user churn. However, it's important to consider this result in the broader context of game design and user experience:\n",
    "\n",
    "* Game Difficulty: If Level 28 is a significant difficulty spike, even a small increase in churn probability could indicate that users are getting frustrated. It might be beneficial to review the level's design or provide additional support or hints to help users overcome this challenge.\n",
    "* User Engagement: High engagement users might be more willing to attempt difficult levels multiple times, whereas less engaged users might churn more easily. Segmenting users based on engagement levels could provide further insights.\n",
    "* Other Factors: While the analysis controls for several covariates, there could be other factors not included in the model that also influence churn. Continuous monitoring and analysis are essential to understand the multifaceted nature of user churn fully.\n",
    "* In summary, the causal analysis suggests a slight causal effect of the number of attempts to pass Level 28 on user churn, highlighting the importance of level difficulty and user support in game design to enhance user retention."
   ]
  },
  {
   "cell_type": "code",
   "execution_count": null,
   "id": "0850c247-62bd-4f8c-9e95-749ecfed90ca",
   "metadata": {},
   "outputs": [],
   "source": []
  }
 ],
 "metadata": {
  "kernelspec": {
   "display_name": "Python 3 (ipykernel)",
   "language": "python",
   "name": "python3"
  },
  "language_info": {
   "codemirror_mode": {
    "name": "ipython",
    "version": 3
   },
   "file_extension": ".py",
   "mimetype": "text/x-python",
   "name": "python",
   "nbconvert_exporter": "python",
   "pygments_lexer": "ipython3",
   "version": "3.8.19"
  }
 },
 "nbformat": 4,
 "nbformat_minor": 5
}
