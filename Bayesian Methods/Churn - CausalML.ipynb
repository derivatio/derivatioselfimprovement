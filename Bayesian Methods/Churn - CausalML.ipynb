{
 "cells": [
  {
   "cell_type": "markdown",
   "id": "f2832fc5-220e-4b82-8094-cff0fc7ece08",
   "metadata": {},
   "source": [
    "# Defining Causation of Churn with CausalML"
   ]
  },
  {
   "cell_type": "markdown",
   "id": "55ed6f8c-68c7-4bdd-b8ec-9c6a32fd202f",
   "metadata": {},
   "source": [
    "# Business problem\n",
    "Before we jump into the data we can start defining the problem. Let our project manager give us a problem, users are suddenly churning at a specific point which is Level 28. After realizing this problem the manager asked us this generic question \"Why do users churn at Level 28?\". Then you looked at the level data and the difficulty looked as suspicious data but the level was not the only hardest one in the 25 - 35 levels area. Considering this you started a CausalML to prove your idea is right or not."
   ]
  },
  {
   "cell_type": "markdown",
   "id": "50286a03-aa85-4c0f-bbfd-bc0a939a4af6",
   "metadata": {},
   "source": [
    "# Data Generation\n",
    "Assume our dataset includes the following features for each user:\n",
    "\n",
    "- user_id: Unique identifier for the user.\n",
    "- level: The highest level reached by the user.\n",
    "- attempts_to_pass: Number of attempts the user made to pass Level 28.\n",
    "- engagement_score: A composite score representing the user's engagement with the game up to Level 28.\n",
    "- passed_level_28: Binary indicator (1 if the user passed Level 28, 0 otherwise).\n",
    "- churned_at_28: Binary indicator (1 if the user churned at Level 28, 0 otherwise).\n",
    "- rewarded_shows_watched: Number of rewarded ad shows watched by the user up to Level 28.\n",
    "- is_payer: Binary indicator (1 if the user has made any in-game purchases, 0 otherwise).\n",
    "- boosters_used: Number of boosters used by the user up to Level 28.\n",
    "- level_play_time: Total playtime in minutes the user spent on Level 28.\n",
    "- is_crown_enabled: Binary indicator (1 if the crown feature is enabled for the user, 0 otherwise).\n",
    "\n",
    "- is_battle_pass_active: Binary indicator (1 if the user has an active battle pass, 0 otherwise)."
   ]
  },
  {
   "cell_type": "code",
   "execution_count": 2,
   "id": "a2c94969-70ee-4869-a581-0b032113a3f6",
   "metadata": {},
   "outputs": [],
   "source": [
    "#First import necessary libraries\n",
    "import pandas as pd\n",
    "from dowhy import CausalModel\n",
    "import numpy as np"
   ]
  },
  {
   "cell_type": "code",
   "execution_count": 3,
   "id": "825f8ec8-efa8-496a-a7a9-f74dd27961ea",
   "metadata": {},
   "outputs": [],
   "source": [
    "# Simulating data for demonstration\n",
    "np.random.seed(42)\n",
    "data = {\n",
    "    'user_id': np.arange(100),\n",
    "    'attempts_to_pass_28': np.random.poisson(3, 100),\n",
    "    'engagement_score': np.random.normal(50, 10, 100),\n",
    "    'rewarded_shows_watched': np.random.randint(0, 5, 100),\n",
    "    'is_payer': np.random.binomial(1, 0.3, 100),\n",
    "    'boosters_used': np.random.randint(0, 10, 100),\n",
    "    'level_play_time': np.random.normal(30, 5, 100),\n",
    "    'is_crown_enabled': np.random.binomial(1, 0.5, 100),\n",
    "    'is_battle_pass_active': np.random.binomial(1, 0.4, 100),\n",
    "    'churned_at_28': np.random.binomial(1, 0.25, 100)\n",
    "}\n",
    "df = pd.DataFrame(data)"
   ]
  },
  {
   "cell_type": "code",
   "execution_count": 4,
   "id": "89722691-cf9b-4901-b7b4-deb55197bb91",
   "metadata": {},
   "outputs": [],
   "source": [
    "# Define the causal model\n",
    "model = CausalModel(\n",
    "    data=df,\n",
    "    treatment='attempts_to_pass_28',\n",
    "    outcome='churned_at_28',\n",
    "    common_causes=['engagement_score', 'rewarded_shows_watched', 'is_payer', 'boosters_used', \n",
    "                   'level_play_time', 'is_crown_enabled', 'is_battle_pass_active']\n",
    ")\n",
    "\n",
    "# Identify the causal effect using the backdoor criterion\n",
    "identified_estimand = model.identify_effect()"
   ]
  },
  {
   "cell_type": "code",
   "execution_count": 5,
   "id": "54435cc2-4175-454a-8709-c8fe1687a898",
   "metadata": {},
   "outputs": [
    {
     "name": "stdout",
     "output_type": "stream",
     "text": [
      "*** Causal Estimate ***\n",
      "\n",
      "## Identified estimand\n",
      "Estimand type: EstimandType.NONPARAMETRIC_ATE\n",
      "\n",
      "### Estimand : 1\n",
      "Estimand name: backdoor\n",
      "Estimand expression:\n",
      "          d                                                                   \n",
      "─────────────────────(E[churned_at_28|is_payer,boosters_used,is_battle_pass_ac\n",
      "d[attemptsₜₒ ₚₐₛₛ ₂₈]                                                         \n",
      "\n",
      "                                                                              \n",
      "tive,engagement_score,level_play_time,is_crown_enabled,rewarded_shows_watched]\n",
      "                                                                              \n",
      "\n",
      " \n",
      ")\n",
      " \n",
      "Estimand assumption 1, Unconfoundedness: If U→{attempts_to_pass_28} and U→churned_at_28 then P(churned_at_28|attempts_to_pass_28,is_payer,boosters_used,is_battle_pass_active,engagement_score,level_play_time,is_crown_enabled,rewarded_shows_watched,U) = P(churned_at_28|attempts_to_pass_28,is_payer,boosters_used,is_battle_pass_active,engagement_score,level_play_time,is_crown_enabled,rewarded_shows_watched)\n",
      "\n",
      "## Realized estimand\n",
      "b: churned_at_28~attempts_to_pass_28+is_payer+boosters_used+is_battle_pass_active+engagement_score+level_play_time+is_crown_enabled+rewarded_shows_watched\n",
      "Target units: ate\n",
      "\n",
      "## Estimate\n",
      "Mean value: 0.0022117123500239866\n",
      "\n"
     ]
    }
   ],
   "source": [
    "# Estimate the causal effect\n",
    "estimate = model.estimate_effect(identified_estimand,\n",
    "                                 method_name=\"backdoor.linear_regression\")\n",
    "\n",
    "print(estimate)"
   ]
  },
  {
   "cell_type": "markdown",
   "id": "1233efea-de0e-4140-92ce-120fd0459f48",
   "metadata": {},
   "source": [
    "# Result\n",
    "The mean value represents the estimated average causal effect of increasing the number of attempts to pass Level 28 by one unit on the probability of churning. In this case, the estimated effect size is approximately 0.0022. This suggests that an additional attempt to pass Level 28 is associated with a 0.22% increase in the probability of churning, on average, across all users in the dataset."
   ]
  },
  {
   "cell_type": "markdown",
   "id": "f81a4f21-6c91-4099-b798-9225bc212e95",
   "metadata": {},
   "source": [
    "# Interpretation\n",
    "The estimated causal effect is relatively small, indicating that the number of attempts to pass Level 28, by itself, has a slight increase in the likelihood of user churn. However, it's important to consider this result in the broader context of game design and user experience:\n",
    "\n",
    "* Game Difficulty: If Level 28 is a significant difficulty spike, even a small increase in churn probability could indicate that users are getting frustrated. It might be beneficial to review the level's design or provide additional support or hints to help users overcome this challenge.\n",
    "* User Engagement: High engagement users might be more willing to attempt difficult levels multiple times, whereas less engaged users might churn more easily. Segmenting users based on engagement levels could provide further insights.\n",
    "* Other Factors: While the analysis controls for several covariates, there could be other factors not included in the model that also influence churn. Continuous monitoring and analysis are essential to understand the multifaceted nature of user churn fully.\n",
    "* In summary, the causal analysis suggests a slight causal effect of the number of attempts to pass Level 28 on user churn, highlighting the importance of level difficulty and user support in game design to enhance user retention."
   ]
  },
  {
   "cell_type": "code",
   "execution_count": null,
   "id": "0850c247-62bd-4f8c-9e95-749ecfed90ca",
   "metadata": {},
   "outputs": [],
   "source": []
  }
 ],
 "metadata": {
  "kernelspec": {
   "display_name": "Python 3 (ipykernel)",
   "language": "python",
   "name": "python3"
  },
  "language_info": {
   "codemirror_mode": {
    "name": "ipython",
    "version": 3
   },
   "file_extension": ".py",
   "mimetype": "text/x-python",
   "name": "python",
   "nbconvert_exporter": "python",
   "pygments_lexer": "ipython3",
   "version": "3.8.19"
  }
 },
 "nbformat": 4,
 "nbformat_minor": 5
}
